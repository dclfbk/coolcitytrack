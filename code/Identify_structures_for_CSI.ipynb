{
 "cells": [
  {
   "cell_type": "markdown",
   "metadata": {},
   "source": [
    "This script is necessary to identify the structures needed to compute the Climate Shelter Index (CSI), in particular:\n",
    "- Surface Area of Green Spaces\n",
    "- Presence of drinking fountains\n",
    "- Presence of picnic tables and benches (rest area)\n",
    "\n",
    "In addition the data about green area are combined with data about parks and gardens in Bologna"
   ]
  },
  {
   "cell_type": "markdown",
   "metadata": {},
   "source": [
    "### 0. Libraries"
   ]
  },
  {
   "cell_type": "code",
   "execution_count": 1,
   "metadata": {},
   "outputs": [
    {
     "name": "stderr",
     "output_type": "stream",
     "text": [
      "c:\\Users\\elima\\anaconda3\\envs\\geoss\\Lib\\site-packages\\geopandas\\_compat.py:124: UserWarning: The Shapely GEOS version (3.10.3-CAPI-1.16.1) is incompatible with the GEOS version PyGEOS was compiled with (3.10.4-CAPI-1.16.2). Conversions between both will be slow.\n",
      "  warnings.warn(\n"
     ]
    }
   ],
   "source": [
    "# libraries\n",
    "import os\n",
    "import geopandas as gpd\n",
    "import shapely  #1.8.5 version \n",
    "from shapely.geometry import Polygon\n",
    "from shapely.geometry import Point\n",
    "import matplotlib\n",
    "import mapclassify\n",
    "import rasterio\n",
    "import numpy as np # 1.23.5 version\n",
    "import pandas as pd\n",
    "import urllib.request\n",
    "import pyrosm"
   ]
  },
  {
   "cell_type": "markdown",
   "metadata": {},
   "source": [
    "### 1. Surface Area \n",
    "Calculate the surface area of each green space in the municipality of Bologna"
   ]
  },
  {
   "cell_type": "code",
   "execution_count": 2,
   "metadata": {},
   "outputs": [],
   "source": [
    "# Load the shapefile of green area \n",
    "ar_vrd = gpd.read_file(r\"D:\\Bologna_DBSN\\Bologna_dbsn_selected\\ar_vrd.shp\")"
   ]
  },
  {
   "cell_type": "code",
   "execution_count": 3,
   "metadata": {},
   "outputs": [
    {
     "data": {
      "text/plain": [
       "<Geographic 2D CRS: EPSG:4326>\n",
       "Name: WGS 84\n",
       "Axis Info [ellipsoidal]:\n",
       "- Lat[north]: Geodetic latitude (degree)\n",
       "- Lon[east]: Geodetic longitude (degree)\n",
       "Area of Use:\n",
       "- name: World.\n",
       "- bounds: (-180.0, -90.0, 180.0, 90.0)\n",
       "Datum: World Geodetic System 1984 ensemble\n",
       "- Ellipsoid: WGS 84\n",
       "- Prime Meridian: Greenwich"
      ]
     },
     "execution_count": 3,
     "metadata": {},
     "output_type": "execute_result"
    }
   ],
   "source": [
    "# check the current CRS\n",
    "ar_vrd.crs"
   ]
  },
  {
   "cell_type": "code",
   "execution_count": 4,
   "metadata": {},
   "outputs": [],
   "source": [
    "target_crs = \"EPSG:32633\"\n",
    "# Reproject the GeoDataFrame to the target CRS\n",
    "ar_vrd = ar_vrd.to_crs(target_crs)"
   ]
  },
  {
   "cell_type": "code",
   "execution_count": 6,
   "metadata": {},
   "outputs": [],
   "source": [
    "# Calculate Surface Area in meters an hectares\n",
    "ar_vrd['Area_SqMeters'] = ar_vrd.geometry.area\n",
    "ar_vrd['Area_Ha'] = ar_vrd['Area_SqMeters'] / 10000"
   ]
  },
  {
   "cell_type": "code",
   "execution_count": 8,
   "metadata": {},
   "outputs": [
    {
     "name": "stderr",
     "output_type": "stream",
     "text": [
      "C:\\Users\\elima\\AppData\\Local\\Temp\\ipykernel_1344\\3525987562.py:4: UserWarning: Column names longer than 10 characters will be truncated when saved to ESRI Shapefile.\n",
      "  ar_vrd.to_file(r'D:\\Climate_Shelter_Index\\ar_vrd_surface.shp')\n"
     ]
    }
   ],
   "source": [
    "# Reproject the GeoDataFrame to the orignal CRS\n",
    "ar_vrd= ar_vrd.to_crs(epsg=4326)\n",
    "\n",
    "# Save the GeoDataFrame with the surface area as a shapefile\n",
    "ar_vrd.to_file(r'D:\\Climate_Shelter_Index\\ar_vrd_surface.shp')"
   ]
  },
  {
   "cell_type": "markdown",
   "metadata": {},
   "source": [
    "### 2. Drinking fountains\n",
    "Load data about drinking fountains"
   ]
  },
  {
   "cell_type": "code",
   "execution_count": null,
   "metadata": {},
   "outputs": [],
   "source": [
    "url_download_bologna_pbf = 'https://osmit-estratti.wmcloud.org/dati/poly/comuni/pbf/037006_Bologna.osm.pbf'\n",
    "urllib.request.urlretrieve(url_download_bologna_pbf ,\"bologna_osm.pbf\")\n",
    "osm = pyrosm.OSM(\"bologna_osm.pbf\") "
   ]
  },
  {
   "cell_type": "code",
   "execution_count": null,
   "metadata": {},
   "outputs": [],
   "source": [
    "# Identify drinking fountains using some filters\n",
    "custom_filter = {'amenity': ['drinking_water']}\n",
    "drinking_fountain = osm.get_pois(custom_filter=custom_filter)"
   ]
  },
  {
   "cell_type": "code",
   "execution_count": null,
   "metadata": {},
   "outputs": [],
   "source": [
    "# Create a GeoDataFrame for drinking fountains\n",
    "drinking_fountain_gdf = gpd.GeoDataFrame(drinking_fountain, geometry=[Point(x, y) for x, y in zip(drinking_fountain[\"lon\"], drinking_fountain[\"lat\"])])"
   ]
  },
  {
   "cell_type": "code",
   "execution_count": null,
   "metadata": {},
   "outputs": [],
   "source": [
    "# Save the GeoDataFrame as a shapefile\n",
    "drinking_fountain_gdf.to_file('D:\\Climate_Shelter_Index\\drinking_fountains.shp')"
   ]
  },
  {
   "cell_type": "markdown",
   "metadata": {},
   "source": [
    "#### Green areas + Drinking fountains\n",
    "Check if there are drinking fountains in the green areas"
   ]
  },
  {
   "cell_type": "code",
   "execution_count": 15,
   "metadata": {},
   "outputs": [],
   "source": [
    "# Load the shapefiles\n",
    "green_area = gpd.read_file(r'D:\\Climate_Shelter_Index\\ar_vrd_surface.shp')\n",
    "fountains = gpd.read_file(r\"D:\\Climate_Shelter_Index\\drinking_fountains.shp\")"
   ]
  },
  {
   "cell_type": "code",
   "execution_count": 17,
   "metadata": {},
   "outputs": [
    {
     "name": "stderr",
     "output_type": "stream",
     "text": [
      "c:\\Users\\elima\\anaconda3\\envs\\geoss\\Lib\\site-packages\\IPython\\core\\interactiveshell.py:3466: FutureWarning: The `op` parameter is deprecated and will be removed in a future release. Please use the `predicate` parameter instead.\n",
      "  if await self.run_code(code, result, async_=asy):\n"
     ]
    }
   ],
   "source": [
    "# Perform a spatial join to check if each park contains a fountain\n",
    "ga_with_fountains = gpd.sjoin(green_area, fountains, how=\"left\", op=\"intersects\")\n",
    "\n",
    "# Create a new column 'drinking_fountain' indicating if there is a fountain\n",
    "ga_with_fountains[\"drinking_fountain\"] = ga_with_fountains[\"index_right\"].notnull().replace({True: \"yes\", False: \"no\"})"
   ]
  },
  {
   "cell_type": "code",
   "execution_count": 18,
   "metadata": {},
   "outputs": [],
   "source": [
    "# Create a new column 'id_fountain' with the ID of the drinking fountain if present\n",
    "ga_with_fountains[\"id_fountain\"] = ga_with_fountains[\"id\"].fillna(\"N/A\")"
   ]
  },
  {
   "cell_type": "code",
   "execution_count": 14,
   "metadata": {},
   "outputs": [
    {
     "data": {
      "text/plain": [
       "Index(['OBJECTID', 'ar_vrd_ty', 'scril', 'classid', 'meta_ist', 'shape_Leng',\n",
       "       'shape_Area', 'Area_SqMet', 'Area_Ha', 'geometry', 'index_right',\n",
       "       'version', 'id', 'lat', 'tags', 'changeset', 'timestamp', 'lon', 'name',\n",
       "       'amenity', 'fountain', 'source', 'osm_type', 'drinking_fountain',\n",
       "       'id_fountain'],\n",
       "      dtype='object')"
      ]
     },
     "execution_count": 14,
     "metadata": {},
     "output_type": "execute_result"
    }
   ],
   "source": [
    "# Check all the columns\n",
    "ga_with_fountains.columns"
   ]
  },
  {
   "cell_type": "code",
   "execution_count": 20,
   "metadata": {},
   "outputs": [],
   "source": [
    "# Select the columns you want to keep in the final GeoDataFrame\n",
    "final_columns = [\"OBJECTID\", \"classid\", \"shape_Leng\", \"shape_Area\", \"Area_SqMet\", \"Area_Ha\", \"geometry\", 'amenity',\n",
    "                 'drinking_fountain' ,'id_fountain']\n"
   ]
  },
  {
   "cell_type": "code",
   "execution_count": 21,
   "metadata": {},
   "outputs": [
    {
     "name": "stderr",
     "output_type": "stream",
     "text": [
      "c:\\Users\\elima\\anaconda3\\envs\\geoss\\Lib\\site-packages\\geopandas\\geodataframe.py:1538: SettingWithCopyWarning: \n",
      "A value is trying to be set on a copy of a slice from a DataFrame.\n",
      "Try using .loc[row_indexer,col_indexer] = value instead\n",
      "\n",
      "See the caveats in the documentation: https://pandas.pydata.org/pandas-docs/stable/user_guide/indexing.html#returning-a-view-versus-a-copy\n",
      "  super().__setitem__(key, value)\n"
     ]
    },
    {
     "data": {
      "text/html": [
       "<div>\n",
       "<style scoped>\n",
       "    .dataframe tbody tr th:only-of-type {\n",
       "        vertical-align: middle;\n",
       "    }\n",
       "\n",
       "    .dataframe tbody tr th {\n",
       "        vertical-align: top;\n",
       "    }\n",
       "\n",
       "    .dataframe thead th {\n",
       "        text-align: right;\n",
       "    }\n",
       "</style>\n",
       "<table border=\"1\" class=\"dataframe\">\n",
       "  <thead>\n",
       "    <tr style=\"text-align: right;\">\n",
       "      <th></th>\n",
       "      <th>OBJECTID</th>\n",
       "      <th>classid</th>\n",
       "      <th>shape_Leng</th>\n",
       "      <th>shape_Area</th>\n",
       "      <th>Area_SqMet</th>\n",
       "      <th>Area_Ha</th>\n",
       "      <th>geometry</th>\n",
       "      <th>amenity</th>\n",
       "      <th>drinking_fountain</th>\n",
       "      <th>id_fountain</th>\n",
       "    </tr>\n",
       "  </thead>\n",
       "  <tbody>\n",
       "    <tr>\n",
       "      <th>10684</th>\n",
       "      <td>10685.0</td>\n",
       "      <td>ee361836-dfdd-4f03-b723-2600d9435523</td>\n",
       "      <td>7807.121351</td>\n",
       "      <td>48816.948067</td>\n",
       "      <td>49024.110818</td>\n",
       "      <td>4.902411</td>\n",
       "      <td>POLYGON Z ((11.32203 44.49533 0.00000, 11.3218...</td>\n",
       "      <td>drinking_water</td>\n",
       "      <td>yes</td>\n",
       "      <td>9083886142</td>\n",
       "    </tr>\n",
       "    <tr>\n",
       "      <th>10693</th>\n",
       "      <td>10694.0</td>\n",
       "      <td>998e0bdf-a3ab-498a-8b1f-09fc6016460f</td>\n",
       "      <td>5774.082337</td>\n",
       "      <td>44318.074700</td>\n",
       "      <td>44507.603047</td>\n",
       "      <td>4.450760</td>\n",
       "      <td>POLYGON Z ((11.28510 44.51163 0.00000, 11.2850...</td>\n",
       "      <td>drinking_water</td>\n",
       "      <td>yes</td>\n",
       "      <td>8130019758</td>\n",
       "    </tr>\n",
       "    <tr>\n",
       "      <th>10810</th>\n",
       "      <td>10811.0</td>\n",
       "      <td>2394871a-6e60-47de-adf1-e0b950cccaa5</td>\n",
       "      <td>5688.140142</td>\n",
       "      <td>75708.860246</td>\n",
       "      <td>76027.876725</td>\n",
       "      <td>7.602788</td>\n",
       "      <td>POLYGON Z ((11.35577 44.46183 0.00000, 11.3556...</td>\n",
       "      <td>drinking_water</td>\n",
       "      <td>yes</td>\n",
       "      <td>7242733300</td>\n",
       "    </tr>\n",
       "  </tbody>\n",
       "</table>\n",
       "</div>"
      ],
      "text/plain": [
       "       OBJECTID                               classid   shape_Leng  \\\n",
       "10684   10685.0  ee361836-dfdd-4f03-b723-2600d9435523  7807.121351   \n",
       "10693   10694.0  998e0bdf-a3ab-498a-8b1f-09fc6016460f  5774.082337   \n",
       "10810   10811.0  2394871a-6e60-47de-adf1-e0b950cccaa5  5688.140142   \n",
       "\n",
       "         shape_Area    Area_SqMet   Area_Ha  \\\n",
       "10684  48816.948067  49024.110818  4.902411   \n",
       "10693  44318.074700  44507.603047  4.450760   \n",
       "10810  75708.860246  76027.876725  7.602788   \n",
       "\n",
       "                                                geometry         amenity  \\\n",
       "10684  POLYGON Z ((11.32203 44.49533 0.00000, 11.3218...  drinking_water   \n",
       "10693  POLYGON Z ((11.28510 44.51163 0.00000, 11.2850...  drinking_water   \n",
       "10810  POLYGON Z ((11.35577 44.46183 0.00000, 11.3556...  drinking_water   \n",
       "\n",
       "      drinking_fountain id_fountain  \n",
       "10684               yes  9083886142  \n",
       "10693               yes  8130019758  \n",
       "10810               yes  7242733300  "
      ]
     },
     "execution_count": 21,
     "metadata": {},
     "output_type": "execute_result"
    }
   ],
   "source": [
    "# Create a new GeoDataFrame with the selected columns\n",
    "final_gdf = ga_with_fountains[final_columns]\n",
    "\n",
    "final_gdf[\"id_fountain\"] =  final_gdf[\"id_fountain\"].apply(lambda x: str(x).replace('.0', '') if x != 'N/A' else x)\n",
    "\n",
    "final_gdf[final_gdf['drinking_fountain']=='yes'].head(3)\n"
   ]
  },
  {
   "cell_type": "code",
   "execution_count": 22,
   "metadata": {},
   "outputs": [
    {
     "name": "stderr",
     "output_type": "stream",
     "text": [
      "C:\\Users\\elima\\AppData\\Local\\Temp\\ipykernel_10716\\1714682596.py:2: SettingWithCopyWarning: \n",
      "A value is trying to be set on a copy of a slice from a DataFrame\n",
      "\n",
      "See the caveats in the documentation: https://pandas.pydata.org/pandas-docs/stable/user_guide/indexing.html#returning-a-view-versus-a-copy\n",
      "  final_gdf.rename(columns={\"Area_SqMet\": \"Area_SqM\",\n"
     ]
    }
   ],
   "source": [
    "# Rename the column\n",
    "final_gdf.rename(columns={\"Area_SqMet\": \"Area_SqM\",\n",
    "                          \"drinking_fountain\":\"d_fountain\",\n",
    "                          \"id_fountain\":\"id_df\"\n",
    "                          }, \n",
    "                 inplace=True)"
   ]
  },
  {
   "cell_type": "code",
   "execution_count": 23,
   "metadata": {},
   "outputs": [],
   "source": [
    "# Save the final GeoDataFrame as a shapefile\n",
    "final_gdf.to_file(r\"D:\\Climate_Shelter_Index\\ar_vrd_surface_drinkingfount.shp\")\n"
   ]
  },
  {
   "cell_type": "markdown",
   "metadata": {},
   "source": [
    "### 3. Picnic tables\n",
    "Load data about picnic tables"
   ]
  },
  {
   "cell_type": "code",
   "execution_count": 9,
   "metadata": {},
   "outputs": [
    {
     "name": "stderr",
     "output_type": "stream",
     "text": [
      "c:\\Users\\elima\\anaconda3\\envs\\geoss\\Lib\\site-packages\\pyrosm\\pyrosm.py:576: ShapelyDeprecationWarning: The array interface is deprecated and will no longer work in Shapely 2.0. Convert the '.coords' to a numpy array instead.\n",
      "  gdf = get_poi_data(\n"
     ]
    }
   ],
   "source": [
    "# Identify picnic tables using some filters\n",
    "custom_filter = {'leisure': ['picnic_table']}\n",
    "picnic_table = osm.get_pois(custom_filter=custom_filter)"
   ]
  },
  {
   "cell_type": "code",
   "execution_count": 12,
   "metadata": {},
   "outputs": [],
   "source": [
    "# Create a GeoDataFrame for picnic tables\n",
    "picnic_table_gdf = gpd.GeoDataFrame(picnic_table, geometry=[Point(x, y) for x, y in zip(picnic_table[\"lon\"], picnic_table[\"lat\"])])"
   ]
  },
  {
   "cell_type": "code",
   "execution_count": 15,
   "metadata": {},
   "outputs": [],
   "source": [
    "# Save the GeoDataFrame as a shapefile\n",
    "picnic_table_gdf.to_file('D:\\Climate_Shelter_Index\\picnic_tables.shp')"
   ]
  },
  {
   "cell_type": "markdown",
   "metadata": {},
   "source": [
    "#### Green areas + Drinking fountains + Picnic tables\n",
    "Check if there are picnic tables in the green areas"
   ]
  },
  {
   "cell_type": "code",
   "execution_count": 24,
   "metadata": {},
   "outputs": [],
   "source": [
    "# Load the shapefiles\n",
    "ar_vrd_surface_drinkingfount = gpd.read_file(r\"D:\\Climate_Shelter_Index\\ar_vrd_surface_drinkingfount.shp\")\n",
    "picnic_tables = gpd.read_file(r'D:\\Climate_Shelter_Index\\picnic_tables.shp')"
   ]
  },
  {
   "cell_type": "code",
   "execution_count": 26,
   "metadata": {},
   "outputs": [
    {
     "name": "stderr",
     "output_type": "stream",
     "text": [
      "c:\\Users\\elima\\anaconda3\\envs\\geoss\\Lib\\site-packages\\IPython\\core\\interactiveshell.py:3466: FutureWarning: The `op` parameter is deprecated and will be removed in a future release. Please use the `predicate` parameter instead.\n",
      "  if await self.run_code(code, result, async_=asy):\n"
     ]
    }
   ],
   "source": [
    "# Perform a spatial join to check if each park contains a picnic table\n",
    "ga_pt = gpd.sjoin(ar_vrd_surface_drinkingfount, picnic_tables, how=\"left\", op=\"intersects\")\n",
    "\n",
    "# Create a new column 'picnic_table' indicating if there is a picnic table\n",
    "ga_pt[\"picnic_table\"] = ga_pt[\"index_right\"].notnull().replace({True: \"yes\", False: \"no\"})"
   ]
  },
  {
   "cell_type": "code",
   "execution_count": 28,
   "metadata": {},
   "outputs": [],
   "source": [
    "# Create a new column 'id_pt' with the ID of the picnic table if present\n",
    "ga_pt[\"id_pt\"] = ga_pt[\"id\"].fillna(\"N/A\")"
   ]
  },
  {
   "cell_type": "code",
   "execution_count": 35,
   "metadata": {},
   "outputs": [
    {
     "name": "stderr",
     "output_type": "stream",
     "text": [
      "c:\\Users\\elima\\anaconda3\\envs\\geoss\\Lib\\site-packages\\geopandas\\geodataframe.py:1538: SettingWithCopyWarning: \n",
      "A value is trying to be set on a copy of a slice from a DataFrame.\n",
      "Try using .loc[row_indexer,col_indexer] = value instead\n",
      "\n",
      "See the caveats in the documentation: https://pandas.pydata.org/pandas-docs/stable/user_guide/indexing.html#returning-a-view-versus-a-copy\n",
      "  super().__setitem__(key, value)\n"
     ]
    }
   ],
   "source": [
    "final_columns = ['OBJECTID', 'classid', 'shape_Leng', 'shape_Area', 'Area_SqM',\n",
    "        'Area_Ha', 'amenity', 'd_fountain', 'id_df', 'geometry','picnic_table', 'id_pt']\n",
    "# Create a new GeoDataFrame with the selected columns\n",
    "final_gdf2 = ga_pt[final_columns]\n",
    "\n",
    "final_gdf2['id_pt'] = final_gdf2['id_pt'].apply(lambda x: str(x).replace('.0', '') if x != 'N/A' else x)\n"
   ]
  },
  {
   "cell_type": "code",
   "execution_count": 37,
   "metadata": {},
   "outputs": [
    {
     "name": "stderr",
     "output_type": "stream",
     "text": [
      "C:\\Users\\elima\\AppData\\Local\\Temp\\ipykernel_10716\\2292307633.py:2: UserWarning: Column names longer than 10 characters will be truncated when saved to ESRI Shapefile.\n",
      "  final_gdf2.to_file(r\"D:\\Climate_Shelter_Index\\ar_vrd_s_df_pt.shp\")\n"
     ]
    }
   ],
   "source": [
    "# Save the final GeoDataFrame as a shapefile\n",
    "final_gdf2.to_file(r\"D:\\Climate_Shelter_Index\\ar_vrd_s_df_pt.shp\")"
   ]
  },
  {
   "cell_type": "markdown",
   "metadata": {},
   "source": [
    "### 4. Benches\n",
    "Load data about benches"
   ]
  },
  {
   "cell_type": "code",
   "execution_count": 4,
   "metadata": {},
   "outputs": [
    {
     "name": "stderr",
     "output_type": "stream",
     "text": [
      "c:\\Users\\elima\\anaconda3\\envs\\geoss\\Lib\\site-packages\\pyrosm\\pyrosm.py:576: ShapelyDeprecationWarning: The array interface is deprecated and will no longer work in Shapely 2.0. Convert the '.coords' to a numpy array instead.\n",
      "  gdf = get_poi_data(\n"
     ]
    }
   ],
   "source": [
    "# Identify benches using some filters\n",
    "custom_filter = {'amenity': ['bench']}\n",
    "benches = osm.get_pois(custom_filter=custom_filter)"
   ]
  },
  {
   "cell_type": "code",
   "execution_count": 7,
   "metadata": {},
   "outputs": [],
   "source": [
    "# Create a GeoDataFrame for benches\n",
    "benches_gdf = gpd.GeoDataFrame(benches, geometry=[Point(x, y) for x, y in zip(benches[\"lon\"], benches[\"lat\"])])"
   ]
  },
  {
   "cell_type": "code",
   "execution_count": 9,
   "metadata": {},
   "outputs": [],
   "source": [
    "# Save the GeoDataFrame as a shapefile\n",
    "benches_gdf.to_file(r'D:\\Climate_Shelter_Index\\benches.shp')"
   ]
  },
  {
   "cell_type": "markdown",
   "metadata": {},
   "source": [
    "#### Green areas + Drinking fountains + Picnic tables + Benches\n",
    "Check if there are benches in the green areas"
   ]
  },
  {
   "cell_type": "code",
   "execution_count": 10,
   "metadata": {},
   "outputs": [],
   "source": [
    "# Load shapefiles\n",
    "ar_vrd_s_df_pt = gpd.read_file(r\"D:\\Climate_Shelter_Index\\ar_vrd_s_df_pt.shp\")\n",
    "benches = gpd.read_file(r'D:\\Climate_Shelter_Index\\benches.shp')"
   ]
  },
  {
   "cell_type": "code",
   "execution_count": 12,
   "metadata": {},
   "outputs": [
    {
     "name": "stderr",
     "output_type": "stream",
     "text": [
      "c:\\Users\\elima\\anaconda3\\envs\\geoss\\Lib\\site-packages\\IPython\\core\\interactiveshell.py:3466: FutureWarning: The `op` parameter is deprecated and will be removed in a future release. Please use the `predicate` parameter instead.\n",
      "  if await self.run_code(code, result, async_=asy):\n"
     ]
    }
   ],
   "source": [
    "# Perform a spatial join to check if each park contains benches\n",
    "ga_benches = gpd.sjoin(ar_vrd_s_df_pt, benches, how=\"left\", op=\"intersects\")\n",
    "\n",
    "# Create a new column 'benches' indicating if there is a bench\n",
    "ga_benches[\"benches\"] = ga_benches[\"index_right\"].notnull().replace({True: \"yes\", False: \"no\"})"
   ]
  },
  {
   "cell_type": "code",
   "execution_count": 13,
   "metadata": {},
   "outputs": [],
   "source": [
    "# Create a new column 'id_bench' with the ID of the bench if present\n",
    "ga_benches[\"id_bench\"] = ga_benches[\"id\"].fillna(\"N/A\")"
   ]
  },
  {
   "cell_type": "code",
   "execution_count": 18,
   "metadata": {},
   "outputs": [
    {
     "data": {
      "text/plain": [
       "Index(['OBJECTID', 'classid', 'shape_Leng', 'shape_Area', 'Area_SqM',\n",
       "       'Area_Ha', 'amenity_left', 'd_fountain', 'id_df', 'picnic_tab', 'id_pt',\n",
       "       'geometry', 'index_right', 'id', 'version', 'lat', 'changeset', 'lon',\n",
       "       'timestamp', 'tags', 'amenity_right', 'osm_type', 'benches',\n",
       "       'id_bench'],\n",
       "      dtype='object')"
      ]
     },
     "execution_count": 18,
     "metadata": {},
     "output_type": "execute_result"
    }
   ],
   "source": [
    "ga_benches.columns"
   ]
  },
  {
   "cell_type": "code",
   "execution_count": 24,
   "metadata": {},
   "outputs": [
    {
     "name": "stderr",
     "output_type": "stream",
     "text": [
      "c:\\Users\\elima\\anaconda3\\envs\\geoss\\Lib\\site-packages\\geopandas\\geodataframe.py:1538: SettingWithCopyWarning: \n",
      "A value is trying to be set on a copy of a slice from a DataFrame.\n",
      "Try using .loc[row_indexer,col_indexer] = value instead\n",
      "\n",
      "See the caveats in the documentation: https://pandas.pydata.org/pandas-docs/stable/user_guide/indexing.html#returning-a-view-versus-a-copy\n",
      "  super().__setitem__(key, value)\n"
     ]
    }
   ],
   "source": [
    "final_columns = ['OBJECTID', 'classid', 'shape_Leng', 'shape_Area', 'Area_SqM',\n",
    "        'Area_Ha',  'd_fountain', 'id_df', 'geometry','picnic_tab', 'id_pt',\n",
    "        'benches', 'id_bench']\n",
    "# Create a new GeoDataFrame with the selected columns\n",
    "final_gdf3 = ga_benches[final_columns]\n",
    "\n",
    "final_gdf3['id_bench'] = final_gdf3['id_bench'].apply(lambda x: str(x).replace('.0', '') if x != 'N/A' else x)\n"
   ]
  },
  {
   "cell_type": "code",
   "execution_count": 29,
   "metadata": {},
   "outputs": [
    {
     "name": "stderr",
     "output_type": "stream",
     "text": [
      "c:\\Users\\elima\\anaconda3\\envs\\geoss\\Lib\\site-packages\\geopandas\\geodataframe.py:1538: SettingWithCopyWarning: \n",
      "A value is trying to be set on a copy of a slice from a DataFrame.\n",
      "Try using .loc[row_indexer,col_indexer] = value instead\n",
      "\n",
      "See the caveats in the documentation: https://pandas.pydata.org/pandas-docs/stable/user_guide/indexing.html#returning-a-view-versus-a-copy\n",
      "  super().__setitem__(key, value)\n"
     ]
    }
   ],
   "source": [
    "final_gdf3['OBJECTID'] = final_gdf3['OBJECTID'].apply(lambda x: str(x).replace('.0', '') if x != 'N/A' else x)"
   ]
  },
  {
   "cell_type": "code",
   "execution_count": 31,
   "metadata": {},
   "outputs": [],
   "source": [
    "# Save the final GeoDataFrame as a shapefile\n",
    "final_gdf3.to_file(r\"D:\\Climate_Shelter_Index\\ar_vrd_s_df_pt_b.shp\")"
   ]
  },
  {
   "cell_type": "markdown",
   "metadata": {},
   "source": [
    "### 5. Park names\n",
    "Load data about garden and park in Bologna (with their names)"
   ]
  },
  {
   "cell_type": "code",
   "execution_count": null,
   "metadata": {},
   "outputs": [],
   "source": [
    "#Load shapefile\n",
    "ar_vrd_s_df_pt_b = gpd.read_file(r\"D:\\Climate_Shelter_Index\\ar_vrd_s_df_pt_b.shp\")\n",
    "park_names = gpd.read_file(r\"D:\\Climate_Shelter_Index\\carta-tecnica-comunale-toponimi-parchi-e-giardini\\carta-tecnica-comunale-toponimi-parchi-e-giardini.shp\")"
   ]
  },
  {
   "cell_type": "code",
   "execution_count": 4,
   "metadata": {},
   "outputs": [
    {
     "name": "stderr",
     "output_type": "stream",
     "text": [
      "c:\\Users\\elima\\anaconda3\\envs\\geoss\\Lib\\site-packages\\IPython\\core\\interactiveshell.py:3466: FutureWarning: The `op` parameter is deprecated and will be removed in a future release. Please use the `predicate` parameter instead.\n",
      "  if await self.run_code(code, result, async_=asy):\n"
     ]
    }
   ],
   "source": [
    "# Perform a spatial join \n",
    "final_gdf4 = gpd.sjoin(ar_vrd_s_df_pt_b, park_names, how=\"left\", op=\"intersects\")"
   ]
  },
  {
   "cell_type": "code",
   "execution_count": 6,
   "metadata": {},
   "outputs": [],
   "source": [
    "final_gdf4['index_right'] = final_gdf4['index_right'].apply(lambda x: str(x).replace('.0', '') if x != 'N/A' else x)"
   ]
  },
  {
   "cell_type": "code",
   "execution_count": 12,
   "metadata": {},
   "outputs": [],
   "source": [
    "# Rename the column\n",
    "final_gdf4.rename(columns={\"index_right\": \"id_park\",}, \n",
    "                 inplace=True)"
   ]
  },
  {
   "cell_type": "code",
   "execution_count": 13,
   "metadata": {},
   "outputs": [],
   "source": [
    "# Save the final GeoDataFrame as a shapefile\n",
    "final_gdf4.to_file(r\"D:\\Climate_Shelter_Index\\ar_vrd_s_df_pt_b_names.shp\")"
   ]
  }
 ],
 "metadata": {
  "kernelspec": {
   "display_name": "geo",
   "language": "python",
   "name": "python3"
  },
  "language_info": {
   "codemirror_mode": {
    "name": "ipython",
    "version": 3
   },
   "file_extension": ".py",
   "mimetype": "text/x-python",
   "name": "python",
   "nbconvert_exporter": "python",
   "pygments_lexer": "ipython3",
   "version": "3.11.5"
  },
  "orig_nbformat": 4
 },
 "nbformat": 4,
 "nbformat_minor": 2
}
