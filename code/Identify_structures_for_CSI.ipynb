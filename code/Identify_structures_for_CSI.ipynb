{
 "cells": [
  {
   "cell_type": "markdown",
   "metadata": {},
   "source": [
    "This script identifies the structures needed to compute the Climate Shelter Index (CSI), in particular:\n",
    "- Surface Area of Green Spaces\n",
    "- Presence of drinking fountains\n",
    "- Presence of picnic tables and benches (rest area)\n",
    "\n",
    "Each green area in the final dataset is public and free"
   ]
  },
  {
   "cell_type": "markdown",
   "metadata": {},
   "source": [
    "### 0. Libraries"
   ]
  },
  {
   "cell_type": "code",
   "execution_count": null,
   "metadata": {},
   "outputs": [],
   "source": [
    "# libraries\n",
    "import os\n",
    "import geopandas as gpd\n",
    "import shapely  #1.8.5 version \n",
    "from shapely.geometry import Polygon\n",
    "from shapely.geometry import Point\n",
    "import matplotlib\n",
    "import mapclassify\n",
    "import rasterio\n",
    "import numpy as np # 1.23.5 version\n",
    "import pandas as pd\n",
    "import urllib.request\n",
    "import pyrosm"
   ]
  },
  {
   "cell_type": "markdown",
   "metadata": {},
   "source": [
    "### 1. Surface Area \n",
    "Calculate the surface area of each public green space in the municipality of Bologna"
   ]
  },
  {
   "cell_type": "code",
   "execution_count": null,
   "metadata": {},
   "outputs": [],
   "source": [
    "# Load the shapefile of 'unità gestionali' (https://opendata.comune.bologna.it/explore/dataset/un_gest/information/?disjunctive.classe_unita_gestionale) \n",
    "un_gest = gpd.read_file(r\"D:\\Climate_Shelter_Index\\unità_gestestionali_bologna\\un_gest.shp\")\n",
"# Remove rows with empty geometries (if present)\n",
"un_gest = un_gest[un_gest['geometry'].notna()]"
   ]
  },
  {
   "cell_type": "code",
   "execution_count": null,
   "metadata": {},
   "outputs": [],
   "source": [
    "# Check which categories are available \n",
    "un_gest.classe_unit.unique()\n",
    "\n",
    "# List of categories to exclude\n",
    "categories_to_exclude = ['PARCHEGGIO', \"VERDE D'ARREDO\", \"VERDE D'ARREDO STRADALE\",
'CORPO IDRICO (laghetti, ruscelli, e fossi in collina)']\n",
    "\n",
    "# Filter to exclude the specified categories and keep all types of green areas\n",
    "ar_vrd = un_gest[~un_gest['classe_unit'].isin(categories_to_exclude)]\n"
   ]
  },
  {
   "cell_type": "code",
   "execution_count": null,
   "metadata": {},
   "outputs": [],
   "source": [
    "ar_vrd[ar_vrd['area_Ha']>0.5].head(3)"
   ]
  },
  {
   "cell_type": "code",
   "execution_count": null,
   "metadata": {},
   "outputs": [],
   "source": [
    "ar_vrd['area_prato'] = pd.to_numeric(ar_vrd['area_prato'], errors='coerce')\n"
   ]
  },
  {
   "cell_type": "code",
   "execution_count": null,
   "metadata": {},
   "outputs": [],
   "source": [
    "# Calculate surface of green area in hectares\n",
    "ar_vrd['area_Ha'] = ar_vrd['area_prato'] / 10000"
   ]
  },
  {
   "cell_type": "code",
   "execution_count": null,
   "metadata": {},
   "outputs": [],
   "source": [
    "# Save the GeoDataFrame with the surface area as a shapefile\n",
    "ar_vrd.to_file(r'D:\\Climate_Shelter_Index\\ar_vrd_surface.shp')"
   ]
  },
  {
   "cell_type": "markdown",
   "metadata": {},
   "source": [
    "### 2. Drinking fountains\n",
    "Load data about drinking fountains"
   ]
  },
  {
   "cell_type": "code",
   "execution_count": null,
   "metadata": {},
   "outputs": [],
   "source": [
    "url_download_bologna_pbf = 'https://osmit-estratti.wmcloud.org/dati/poly/comuni/pbf/037006_Bologna.osm.pbf'\n",
    "urllib.request.urlretrieve(url_download_bologna_pbf ,\"bologna_osm.pbf\")\n",
    "osm = pyrosm.OSM(\"bologna_osm.pbf\") "
   ]
  },
  {
   "cell_type": "code",
   "execution_count": null,
   "metadata": {},
   "outputs": [],
   "source": [
    "# Identify drinking fountains using some filters\n",
    "custom_filter = {'amenity': ['drinking_water']}\n",
    "drinking_fountain = osm.get_pois(custom_filter=custom_filter)"
   ]
  },
  {
   "cell_type": "code",
   "execution_count": null,
   "metadata": {},
   "outputs": [],
   "source": [
    "# Create a GeoDataFrame for drinking fountains\n",
    "drinking_fountain_gdf = gpd.GeoDataFrame(drinking_fountain, geometry=[Point(x, y) for x, y in zip(drinking_fountain[\"lon\"], drinking_fountain[\"lat\"])])"
   ]
  },
  {
   "cell_type": "code",
   "execution_count": null,
   "metadata": {},
   "outputs": [],
   "source": [
    "# Save the GeoDataFrame as a shapefile\n",
    "drinking_fountain_gdf.to_file('D:\\Climate_Shelter_Index\\drinking_fountains.shp')"
   ]
  },
  {
   "cell_type": "markdown",
   "metadata": {},
   "source": [
    "#### Green areas + Drinking fountains\n",
    "Check if there are drinking fountains in the green areas"
   ]
  },
  {
   "cell_type": "code",
   "execution_count": null,
   "metadata": {},
   "outputs": [],
   "source": [
    "# Load the shapefiles\n",
    "green_area = gpd.read_file(r'D:\\Climate_Shelter_Index\\ar_vrd_surface.shp')\n",
    "fountains = gpd.read_file(r\"D:\\Climate_Shelter_Index\\drinking_fountains.shp\")"
   ]
  },
  {
   "cell_type": "code",
   "execution_count": null,
   "metadata": {},
   "outputs": [],
   "source": [
    "# Perform a spatial join to check if each park contains a fountain\n",
    "ga_with_fountains = gpd.sjoin(green_area, fountains, how=\"left\", op=\"intersects\")\n",
    "\n",
    "# Create a new column 'drinking_fountain' indicating if there is a fountain\n",
    "ga_with_fountains[\"drinking_fountain\"] = ga_with_fountains[\"index_right\"].notnull().replace({True: \"yes\", False: \"no\"})"
   ]
  },
  {
   "cell_type": "code",
   "execution_count": null,
   "metadata": {},
   "outputs": [],
   "source": [
    "# Create a new column 'id_fountain' with the ID of the drinking fountain if present\n",
    "ga_with_fountains[\"id_fountain\"] = ga_with_fountains[\"id\"].fillna(\"N/A\")"
   ]
  },
  {
   "cell_type": "code",
   "execution_count": null,
   "metadata": {},
   "outputs": [],
   "source": [
    "# Check all the columns\n",
    "ga_with_fountains.columns"
   ]
  },
  {
   "cell_type": "code",
   "execution_count": null,
   "metadata": {},
   "outputs": [],
   "source": [
    "# Select the columns you want to keep in the final GeoDataFrame\n",
    "final_columns = ['quart', 'nome', 'ubicazione', 'classe_uni', 'classe_gia', 'classe_pen',\n",
    "       'classe_suo', 'area_prato', 'area_ug', 'data_agg', 'siepi', 'bosco',\n",
    "       'arboreo', 'arbustivo', 'pavim', 'idro', 'quartiere', 'area_stati',\n",
    "       'zona_pross', 'area_Ha', 'geometry', 'drinking_fountain' ,'id_fountain']\n"
   ]
  },
  {
   "cell_type": "code",
   "execution_count": null,
   "metadata": {},
   "outputs": [],
   "source": [
    "# Create a new GeoDataFrame with the selected columns\n",
    "final_gdf = ga_with_fountains[final_columns]\n",
    "\n",
    "final_gdf[\"id_fountain\"] =  final_gdf[\"id_fountain\"].apply(lambda x: str(x).replace('.0', '') if x != 'N/A' else x)\n"
   ]
  },
  {
   "cell_type": "code",
   "execution_count": null,
   "metadata": {},
   "outputs": [],
   "source": [
    "# Rename the column\n",
    "final_gdf.rename(columns={\"drinking_fountain\":\"d_fountain\",\n",
    "                          \"id_fountain\":\"id_df\"\n",
    "                          }, \n",
    "                 inplace=True)"
   ]
  },
  {
   "cell_type": "code",
   "execution_count": null,
   "metadata": {},
   "outputs": [],
   "source": [
    "# Save the final GeoDataFrame as a shapefile\n",
    "final_gdf.to_file(r\"D:\\Climate_Shelter_Index\\ar_vrd_surface_drinkingfount.shp\")\n"
   ]
  },
  {
   "cell_type": "markdown",
   "metadata": {},
   "source": [
    "### 3. Picnic tables\n",
    "Load data about picnic tables"
   ]
  },
  {
   "cell_type": "code",
   "execution_count": null,
   "metadata": {},
   "outputs": [],
   "source": [
    "# Identify picnic tables using some filters\n",
    "custom_filter = {'leisure': ['picnic_table']}\n",
    "picnic_table = osm.get_pois(custom_filter=custom_filter)"
   ]
  },
  {
   "cell_type": "code",
   "execution_count": null,
   "metadata": {},
   "outputs": [],
   "source": [
    "# Create a GeoDataFrame for picnic tables\n",
    "picnic_table_gdf = gpd.GeoDataFrame(picnic_table, geometry=[Point(x, y) for x, y in zip(picnic_table[\"lon\"], picnic_table[\"lat\"])])"
   ]
  },
  {
   "cell_type": "code",
   "execution_count": null,
   "metadata": {},
   "outputs": [],
   "source": [
    "# Save the GeoDataFrame as a shapefile\n",
    "picnic_table_gdf.to_file('D:\\Climate_Shelter_Index\\picnic_tables.shp')"
   ]
  },
  {
   "cell_type": "markdown",
   "metadata": {},
   "source": [
    "#### Green areas + Drinking fountains + Picnic tables\n",
    "Check if there are picnic tables in the green areas"
   ]
  },
  {
   "cell_type": "code",
   "execution_count": null,
   "metadata": {},
   "outputs": [],
   "source": [
    "# Load the shapefiles\n",
    "ar_vrd_surface_drinkingfount = gpd.read_file(r\"D:\\Climate_Shelter_Index\\ar_vrd_surface_drinkingfount.shp\")\n",
    "picnic_tables = gpd.read_file(r'D:\\Climate_Shelter_Index\\picnic_tables.shp')"
   ]
  },
  {
   "cell_type": "code",
   "execution_count": null,
   "metadata": {},
   "outputs": [],
   "source": [
    "# Perform a spatial join to check if each park contains a picnic table\n",
    "ga_pt = gpd.sjoin(ar_vrd_surface_drinkingfount, picnic_tables, how=\"left\", op=\"intersects\")\n",
    "\n",
    "# Create a new column 'picnic_table' indicating if there is a picnic table\n",
    "ga_pt[\"picnic_table\"] = ga_pt[\"index_right\"].notnull().replace({True: \"yes\", False: \"no\"})"
   ]
  },
  {
   "cell_type": "code",
   "execution_count": null,
   "metadata": {},
   "outputs": [],
   "source": [
    "# Create a new column 'id_pt' with the ID of the picnic table if present\n",
    "ga_pt[\"id_pt\"] = ga_pt[\"id\"].fillna(\"N/A\")"
   ]
  },
  {
   "cell_type": "code",
   "execution_count": null,
   "metadata": {},
   "outputs": [],
   "source": [
    "ga_pt.columns"
   ]
  },
  {
   "cell_type": "code",
   "execution_count": null,
   "metadata": {},
   "outputs": [],
   "source": [
    "final_columns = ['quart', 'nome', 'ubicazione', 'classe_uni', 'classe_gia', 'classe_pen',\n",
    "       'classe_suo', 'area_prato', 'area_ug', 'data_agg', 'siepi', 'bosco',\n",
    "       'arboreo', 'arbustivo', 'pavim', 'idro', 'quartiere', 'area_stati',\n",
    "       'zona_pross', 'area_Ha', 'd_fountain', 'id_df', 'geometry','picnic_table', 'id_pt']\n",
    "\n",
    "# Create a new GeoDataFrame with the selected columns\n",
    "final_gdf2 = ga_pt[final_columns]\n",
    "\n",
    "final_gdf2['id_pt'] = final_gdf2['id_pt'].apply(lambda x: str(x).replace('.0', '') if x != 'N/A' else x)\n"
   ]
  },
  {
   "cell_type": "code",
   "execution_count": null,
   "metadata": {},
   "outputs": [],
   "source": [
    "# Save the final GeoDataFrame as a shapefile\n",
    "final_gdf2.to_file(r\"D:\\Climate_Shelter_Index\\ar_vrd_s_df_pt.shp\")"
   ]
  },
  {
   "cell_type": "markdown",
   "metadata": {},
   "source": [
    "### 4. Benches\n",
    "Load data about benches"
   ]
  },
  {
   "cell_type": "code",
   "execution_count": null,
   "metadata": {},
   "outputs": [],
   "source": [
    "# Identify benches using some filters\n",
    "custom_filter = {'amenity': ['bench']}\n",
    "benches = osm.get_pois(custom_filter=custom_filter)"
   ]
  },
  {
   "cell_type": "code",
   "execution_count": null,
   "metadata": {},
   "outputs": [],
   "source": [
    "# Create a GeoDataFrame for benches\n",
    "benches_gdf = gpd.GeoDataFrame(benches, geometry=[Point(x, y) for x, y in zip(benches[\"lon\"], benches[\"lat\"])])"
   ]
  },
  {
   "cell_type": "code",
   "execution_count": null,
   "metadata": {},
   "outputs": [],
   "source": [
    "# Save the GeoDataFrame as a shapefile\n",
    "benches_gdf.to_file(r'D:\\Climate_Shelter_Index\\benches.shp')"
   ]
  },
  {
   "cell_type": "markdown",
   "metadata": {},
   "source": [
    "#### Green areas + Drinking fountains + Picnic tables + Benches\n",
    "Check if there are benches in the green areas"
   ]
  },
  {
   "cell_type": "code",
   "execution_count": null,
   "metadata": {},
   "outputs": [],
   "source": [
    "# Load shapefiles\n",
    "ar_vrd_s_df_pt = gpd.read_file(r\"D:\\Climate_Shelter_Index\\ar_vrd_s_df_pt.shp\")\n",
    "benches = gpd.read_file(r'D:\\Climate_Shelter_Index\\benches.shp')"
   ]
  },
  {
   "cell_type": "code",
   "execution_count": null,
   "metadata": {},
   "outputs": [],
   "source": [
    "# Perform a spatial join to check if each park contains benches\n",
    "ga_benches = gpd.sjoin(ar_vrd_s_df_pt, benches, how=\"left\", op=\"intersects\")\n",
    "\n",
    "# Create a new column 'benches' indicating if there is a bench\n",
    "ga_benches[\"benches\"] = ga_benches[\"index_right\"].notnull().replace({True: \"yes\", False: \"no\"})"
   ]
  },
  {
   "cell_type": "code",
   "execution_count": null,
   "metadata": {},
   "outputs": [],
   "source": [
    "# Create a new column 'id_bench' with the ID of the bench if present\n",
    "ga_benches[\"id_bench\"] = ga_benches[\"id\"].fillna(\"N/A\")"
   ]
  },
  {
   "cell_type": "code",
   "execution_count": null,
   "metadata": {},
   "outputs": [],
   "source": [
    "ga_benches.columns"
   ]
  },
  {
   "cell_type": "code",
   "execution_count": null,
   "metadata": {},
   "outputs": [],
   "source": [
    "final_columns = ['quart', 'nome', 'ubicazione', 'classe_uni', 'classe_gia', 'classe_pen',\n",
    "       'classe_suo', 'area_prato', 'area_ug', 'data_agg', 'siepi', 'bosco',\n",
    "       'arboreo', 'arbustivo', 'pavim', 'idro', 'quartiere', 'area_stati',\n",
    "       'zona_pross', 'area_Ha', 'd_fountain', 'id_df', 'picnic_tab', 'id_pt',\n",
    "       'geometry', 'benches', 'id_bench']\n",
    "\n",
    "# Create a new GeoDataFrame with the selected columns\n",
    "final_gdf3 = ga_benches[final_columns]\n",
    "\n",
    "final_gdf3['id_bench'] = final_gdf3['id_bench'].apply(lambda x: str(x).replace('.0', '') if x != 'N/A' else x)\n"
   ]
  },
  {
   "cell_type": "code",
   "execution_count": null,
   "metadata": {},
   "outputs": [],
   "source": [
    "# Save the final GeoDataFrame as a shapefile\n",
    "final_gdf3.to_file(r\"D:\\Climate_Shelter_Index\\ar_vrd_s_df_pt_b.shp\")"
   ]
  },
  {
   "cell_type": "code",
   "execution_count": 69,
   "metadata": {},
   "outputs": [
    {
     "data": {
      "text/html": [
       "<div>\n",
       "<style scoped>\n",
       "    .dataframe tbody tr th:only-of-type {\n",
       "        vertical-align: middle;\n",
       "    }\n",
       "\n",
       "    .dataframe tbody tr th {\n",
       "        vertical-align: top;\n",
       "    }\n",
       "\n",
       "    .dataframe thead th {\n",
       "        text-align: right;\n",
       "    }\n",
       "</style>\n",
       "<table border=\"1\" class=\"dataframe\">\n",
       "  <thead>\n",
       "    <tr style=\"text-align: right;\">\n",
       "      <th></th>\n",
       "      <th>quart</th>\n",
       "      <th>nome</th>\n",
       "      <th>ubicazione</th>\n",
       "      <th>classe_uni</th>\n",
       "      <th>classe_gia</th>\n",
       "      <th>classe_pen</th>\n",
       "      <th>classe_suo</th>\n",
       "      <th>area_prato</th>\n",
       "      <th>area_ug</th>\n",
       "      <th>data_agg</th>\n",
       "      <th>...</th>\n",
       "      <th>area_stati</th>\n",
       "      <th>zona_pross</th>\n",
       "      <th>area_Ha</th>\n",
       "      <th>d_fountain</th>\n",
       "      <th>id_df</th>\n",
       "      <th>picnic_tab</th>\n",
       "      <th>id_pt</th>\n",
       "      <th>geometry</th>\n",
       "      <th>benches</th>\n",
       "      <th>id_bench</th>\n",
       "    </tr>\n",
       "  </thead>\n",
       "  <tbody>\n",
       "    <tr>\n",
       "      <th>0</th>\n",
       "      <td>Borgo Panigale - Reno</td>\n",
       "      <td>GIARDINO MATERNA FUTURA</td>\n",
       "      <td>Via Tintoretto</td>\n",
       "      <td>VERDE SCOLASTICO</td>\n",
       "      <td>PIANO</td>\n",
       "      <td>0 -20%</td>\n",
       "      <td>NaN</td>\n",
       "      <td>2134.073</td>\n",
       "      <td>2626.432</td>\n",
       "      <td>2016-10-05</td>\n",
       "      <td>...</td>\n",
       "      <td>BATTINDARNO</td>\n",
       "      <td>BARCA</td>\n",
       "      <td>0.213407</td>\n",
       "      <td>no</td>\n",
       "      <td>N/A</td>\n",
       "      <td>no</td>\n",
       "      <td>N/A</td>\n",
       "      <td>POLYGON ((11.29762 44.49943, 11.29766 44.49948...</td>\n",
       "      <td>no</td>\n",
       "      <td>N/A</td>\n",
       "    </tr>\n",
       "    <tr>\n",
       "      <th>1</th>\n",
       "      <td>Porto - Saragozza</td>\n",
       "      <td>GIARDINO MATERNA DOZZA</td>\n",
       "      <td>Viale Silvani</td>\n",
       "      <td>VERDE SCOLASTICO</td>\n",
       "      <td>PIANO</td>\n",
       "      <td>0 -20%</td>\n",
       "      <td>ARGILLOSO COMPATTO</td>\n",
       "      <td>1503.448</td>\n",
       "      <td>1911.187</td>\n",
       "      <td>2006-04-03</td>\n",
       "      <td>...</td>\n",
       "      <td>VELODROMO</td>\n",
       "      <td>SAFFI</td>\n",
       "      <td>0.150345</td>\n",
       "      <td>no</td>\n",
       "      <td>N/A</td>\n",
       "      <td>no</td>\n",
       "      <td>N/A</td>\n",
       "      <td>POLYGON ((11.31213 44.50264, 11.31205 44.50265...</td>\n",
       "      <td>no</td>\n",
       "      <td>N/A</td>\n",
       "    </tr>\n",
       "    <tr>\n",
       "      <th>2</th>\n",
       "      <td>Savena</td>\n",
       "      <td>G.NO CASA DI RIPOSO NOTTURNO \"MADRE TERESA DI ...</td>\n",
       "      <td>Viale Lenin 20</td>\n",
       "      <td>GIARDINO</td>\n",
       "      <td>PIANO</td>\n",
       "      <td>0 -20%</td>\n",
       "      <td>MEDIO IMPASTO</td>\n",
       "      <td>1431.556</td>\n",
       "      <td>1496.995</td>\n",
       "      <td>2006-11-19</td>\n",
       "      <td>...</td>\n",
       "      <td>FOSSOLO</td>\n",
       "      <td>FOSSOLO - DUE MADONNE</td>\n",
       "      <td>0.143156</td>\n",
       "      <td>no</td>\n",
       "      <td>N/A</td>\n",
       "      <td>no</td>\n",
       "      <td>N/A</td>\n",
       "      <td>POLYGON ((11.38761 44.48887, 11.38786 44.48932...</td>\n",
       "      <td>no</td>\n",
       "      <td>N/A</td>\n",
       "    </tr>\n",
       "    <tr>\n",
       "      <th>3</th>\n",
       "      <td>Santo Stefano</td>\n",
       "      <td>GIARDINO DON TULLIO CONTIERO ( EX BELMELORO)</td>\n",
       "      <td>Via Belmerolo</td>\n",
       "      <td>GIARDINO</td>\n",
       "      <td>PIANO</td>\n",
       "      <td>0 -20%</td>\n",
       "      <td>RICCO DI SCHELETRO</td>\n",
       "      <td>614.912</td>\n",
       "      <td>1010.221</td>\n",
       "      <td>2007-05-31</td>\n",
       "      <td>...</td>\n",
       "      <td>IRNERIO-2</td>\n",
       "      <td>IRNERIO</td>\n",
       "      <td>0.061491</td>\n",
       "      <td>no</td>\n",
       "      <td>N/A</td>\n",
       "      <td>no</td>\n",
       "      <td>N/A</td>\n",
       "      <td>POLYGON ((11.35553 44.49509, 11.35539 44.49465...</td>\n",
       "      <td>no</td>\n",
       "      <td>N/A</td>\n",
       "    </tr>\n",
       "    <tr>\n",
       "      <th>4</th>\n",
       "      <td>Borgo Panigale - Reno</td>\n",
       "      <td>GIARDINO ERNESTO CHE GUEVARA</td>\n",
       "      <td>Via Battindarno</td>\n",
       "      <td>GIARDINO</td>\n",
       "      <td>PIANO</td>\n",
       "      <td>0 -20%</td>\n",
       "      <td>MEDIO IMPASTO</td>\n",
       "      <td>23.197</td>\n",
       "      <td>42.662</td>\n",
       "      <td>2016-11-21</td>\n",
       "      <td>...</td>\n",
       "      <td>BATTINDARNO</td>\n",
       "      <td>BARCA</td>\n",
       "      <td>0.002320</td>\n",
       "      <td>no</td>\n",
       "      <td>N/A</td>\n",
       "      <td>no</td>\n",
       "      <td>N/A</td>\n",
       "      <td>POLYGON ((11.29749 44.50230, 11.29745 44.50231...</td>\n",
       "      <td>no</td>\n",
       "      <td>N/A</td>\n",
       "    </tr>\n",
       "  </tbody>\n",
       "</table>\n",
       "<p>5 rows × 27 columns</p>\n",
       "</div>"
      ],
      "text/plain": [
       "                   quart                                               nome  \\\n",
       "0  Borgo Panigale - Reno                            GIARDINO MATERNA FUTURA   \n",
       "1      Porto - Saragozza                             GIARDINO MATERNA DOZZA   \n",
       "2                 Savena  G.NO CASA DI RIPOSO NOTTURNO \"MADRE TERESA DI ...   \n",
       "3          Santo Stefano       GIARDINO DON TULLIO CONTIERO ( EX BELMELORO)   \n",
       "4  Borgo Panigale - Reno                       GIARDINO ERNESTO CHE GUEVARA   \n",
       "\n",
       "        ubicazione        classe_uni classe_gia classe_pen  \\\n",
       "0   Via Tintoretto  VERDE SCOLASTICO      PIANO     0 -20%   \n",
       "1    Viale Silvani  VERDE SCOLASTICO      PIANO     0 -20%   \n",
       "2   Viale Lenin 20          GIARDINO      PIANO     0 -20%   \n",
       "3    Via Belmerolo          GIARDINO      PIANO     0 -20%   \n",
       "4  Via Battindarno          GIARDINO      PIANO     0 -20%   \n",
       "\n",
       "           classe_suo  area_prato   area_ug    data_agg  ...   area_stati  \\\n",
       "0                 NaN    2134.073  2626.432  2016-10-05  ...  BATTINDARNO   \n",
       "1  ARGILLOSO COMPATTO    1503.448  1911.187  2006-04-03  ...    VELODROMO   \n",
       "2       MEDIO IMPASTO    1431.556  1496.995  2006-11-19  ...      FOSSOLO   \n",
       "3  RICCO DI SCHELETRO     614.912  1010.221  2007-05-31  ...    IRNERIO-2   \n",
       "4       MEDIO IMPASTO      23.197    42.662  2016-11-21  ...  BATTINDARNO   \n",
       "\n",
       "              zona_pross   area_Ha d_fountain id_df picnic_tab id_pt  \\\n",
       "0                  BARCA  0.213407         no   N/A         no   N/A   \n",
       "1                  SAFFI  0.150345         no   N/A         no   N/A   \n",
       "2  FOSSOLO - DUE MADONNE  0.143156         no   N/A         no   N/A   \n",
       "3                IRNERIO  0.061491         no   N/A         no   N/A   \n",
       "4                  BARCA  0.002320         no   N/A         no   N/A   \n",
       "\n",
       "                                            geometry benches  id_bench  \n",
       "0  POLYGON ((11.29762 44.49943, 11.29766 44.49948...      no       N/A  \n",
       "1  POLYGON ((11.31213 44.50264, 11.31205 44.50265...      no       N/A  \n",
       "2  POLYGON ((11.38761 44.48887, 11.38786 44.48932...      no       N/A  \n",
       "3  POLYGON ((11.35553 44.49509, 11.35539 44.49465...      no       N/A  \n",
       "4  POLYGON ((11.29749 44.50230, 11.29745 44.50231...      no       N/A  \n",
       "\n",
       "[5 rows x 27 columns]"
      ]
     },
     "execution_count": 69,
     "metadata": {},
     "output_type": "execute_result"
    }
   ],
   "source": [
    "final_gdf3.head()"
   ]
  },
  {
   "cell_type": "code",
   "execution_count": 71,
   "metadata": {},
   "outputs": [
    {
     "data": {
      "text/plain": [
       "<Axes: >"
      ]
     },
     "execution_count": 71,
     "metadata": {},
     "output_type": "execute_result"
    },
    {
     "data": {
      "image/png": "[encoded data removed]",
      "text/plain": [
       "<Figure size 640x480 with 1 Axes>"
      ]
     },
     "metadata": {},
     "output_type": "display_data"
    }
   ],
   "source": [
    "final_gdf3.plot()"
   ]
  }
 ],
 "metadata": {
  "kernelspec": {
   "display_name": "geo",
   "language": "python",
   "name": "python3"
  },
  "language_info": {
   "codemirror_mode": {
    "name": "ipython",
    "version": 3
   },
   "file_extension": ".py",
   "mimetype": "text/x-python",
   "name": "python",
   "nbconvert_exporter": "python",
   "pygments_lexer": "ipython3",
   "version": "3.11.5"
  },
  "orig_nbformat": 4
 },
 "nbformat": 4,
 "nbformat_minor": 2
}
