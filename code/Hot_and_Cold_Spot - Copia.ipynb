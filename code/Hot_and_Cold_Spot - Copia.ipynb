{
 "cells": [
  {
   "cell_type": "code",
   "execution_count": 2,
   "metadata": {},
   "outputs": [],
   "source": [
    "#libraries\n",
    "import os\n",
    "import geopandas as gpd\n",
    "import rasterio\n",
    "import numpy as np\n"
   ]
  },
  {
   "cell_type": "code",
   "execution_count": 16,
   "metadata": {},
   "outputs": [],
   "source": [
    "# Path to the folder containing the TIFF files\n",
    "folder_path = \"path_folder_GeoTIFF\""
   ]
  },
  {
   "cell_type": "code",
   "execution_count": 17,
   "metadata": {},
   "outputs": [],
   "source": [
    "# Get a list of all TIFF files in the folder\n",
    "tif_files = [f for f in os.listdir(folder_path) if f.endswith(\".tif\")]"
   ]
  },
  {
   "cell_type": "code",
   "execution_count": 18,
   "metadata": {},
   "outputs": [],
   "source": [
    "# Function to process a TIFF file and return the hot and cold spots\n",
    "def process_tiff(tif_path):\n",
    "    with rasterio.open(tif_path) as src:\n",
    "        # Read the raster data as a NumPy array\n",
    "        temperature_matrix = src.read(1)  # Assuming temperature is stored in the first band\n",
    "\n",
    "        # Calculate quartiles for non-zero values\n",
    "        non_zero_values = temperature_matrix[temperature_matrix != 0]\n",
    "        q25 = np.percentile(non_zero_values, 25) \n",
    "        q50 = np.percentile(non_zero_values, 50) \n",
    "        q75 = np.percentile(non_zero_values, 75) \n",
    "\n",
    "        # Find indices of cells of q1, q2, q3, q4\n",
    "        q4_hot_spot_indices = np.argwhere((temperature_matrix > q75) & (temperature_matrix != 0))\n",
    "        q3_indices = np.argwhere((temperature_matrix > q50) & (temperature_matrix < q75) & (temperature_matrix != 0))\n",
    "        q2_indices = np.argwhere((temperature_matrix > q25) & (temperature_matrix < q50) & (temperature_matrix != 0))\n",
    "        q1_cold_spot_indices = np.argwhere((temperature_matrix < q25) & (temperature_matrix != 0))\n",
    "        \n",
    "        return q4_hot_spot_indices, q3_indices, q2_indices, q1_cold_spot_indices"
   ]
  },
  {
   "cell_type": "code",
   "execution_count": 19,
   "metadata": {},
   "outputs": [],
   "source": [
    "# Dictionary to store hot and cold spot arrays for each TIFF file\n",
    "q4_hot_spot_results = {}\n",
    "q3_results = {}\n",
    "q2_results = {}\n",
    "q1_cold_spot_results = {}\n",
    "\n",
    "# Iterate through each TIFF file\n",
    "for tif_file in tif_files:\n",
    "    tif_path = os.path.join(folder_path, tif_file)\n",
    "    \n",
    "    # Process the TIFF file\n",
    "    q4_hot_spot_indices, q3_indices, q2_indices, q1_cold_spot_indices = process_tiff(tif_path)\n",
    "\n",
    "    # Store the hot and cold spot indices in the dictionaries\n",
    "    q4_hot_spot_results[tif_file] = q4_hot_spot_indices\n",
    "    q3_results[tif_file] = q3_indices\n",
    "    q2_results[tif_file] = q2_indices\n",
    "    q1_cold_spot_results[tif_file] = q1_cold_spot_indices"
   ]
  },
  {
   "cell_type": "code",
   "execution_count": 24,
   "metadata": {},
   "outputs": [],
   "source": [
    "# Create a dictionary to count the occurrences of each cell position for hot and cold spots\n",
    "q4_hot_cell_count = {}\n",
    "q3_cell_count = {}\n",
    "q2_cell_count =  {}\n",
    "q1_cold_cell_count = {}\n",
    "\n",
    "# Iterate through hot and cold spot arrays from TIFF files\n",
    "#### Q4\n",
    "for tif_file, hot_spot_indices in q4_hot_spot_results.items():\n",
    "    for row, col in hot_spot_indices:\n",
    "        cell_position = (row, col)\n",
    "        \n",
    "        # Increment the count for the cell position in hot spots\n",
    "        if cell_position in q4_hot_cell_count:\n",
    "            q4_hot_cell_count[cell_position] += 1\n",
    "        else:\n",
    "            q4_hot_cell_count[cell_position] = 1\n",
    "\n",
    "#### Q3\n",
    "for tif_file, q3_spot_indices in q3_results.items():\n",
    "    for row, col in q3_spot_indices:\n",
    "        cell_position = (row, col)\n",
    "        \n",
    "        # Increment the count for the cell position in hot spots\n",
    "        if cell_position in q3_cell_count:\n",
    "            q3_cell_count[cell_position] += 1\n",
    "        else:\n",
    "            q3_cell_count[cell_position] = 1\n",
    "\n",
    "#### Q2\n",
    "for tif_file, q2_spot_indices in q2_results.items():\n",
    "    for row, col in q2_spot_indices:\n",
    "        cell_position = (row, col)\n",
    "        \n",
    "        # Increment the count for the cell position in hot spots\n",
    "        if cell_position in q2_cell_count:\n",
    "            q2_cell_count[cell_position] += 1\n",
    "        else:\n",
    "            q2_cell_count[cell_position] = 1\n",
    "\n",
    "\n",
    "\n",
    "#### Q1\n",
    "for tif_file, cold_spot_indices in q1_cold_spot_results.items():\n",
    "    for row, col in cold_spot_indices:\n",
    "        cell_position = (row, col)\n",
    "        \n",
    "        # Increment the count for the cell position in cold spots\n",
    "        if cell_position in q1_cold_cell_count:\n",
    "            q1_cold_cell_count[cell_position] += 1\n",
    "        else:\n",
    "            q1_cold_cell_count[cell_position] = 1\n",
    "\n",
    "# Create datasets for hot and cold spots that occur more than 10 times\n",
    "q4_hot_spot_dataset = [(row, col, count) for (row, col), count in q4_hot_cell_count.items() if count > 10]\n",
    "q3_spot_dataset = [(row, col, count) for (row, col), count in q3_cell_count.items() if count > 10]\n",
    "q2_spot_dataset = [(row, col, count) for (row, col), count in q2_cell_count.items()if count > 10]\n",
    "q1_cold_spot_dataset = [(row, col, count) for (row, col), count in q1_cold_cell_count.items() if count > 10]\n",
    "\n"
   ]
  },
  {
   "cell_type": "code",
   "execution_count": 39,
   "metadata": {},
   "outputs": [],
   "source": [
    "# Load the original GeoTIFF you want to mark\n",
    "original_tiff_path = \"path_GeoTIFF\"\n",
    "with rasterio.open(original_tiff_path) as src:\n",
    "    original_data = src.read(1)\n",
    "    profile = src.profile"
   ]
  },
  {
   "cell_type": "code",
   "execution_count": 40,
   "metadata": {},
   "outputs": [],
   "source": [
    "# Create arrays for marked spots \n",
    "marked_data = np.empty_like(original_data)  "
   ]
  },
  {
   "cell_type": "code",
   "execution_count": 41,
   "metadata": {},
   "outputs": [],
   "source": [
    "# Define numerical values for the classes\n",
    "class_values = {\n",
    "    'Q4': 4,\n",
    "    'Q3': 3,\n",
    "    'Q2': 2,\n",
    "    'Q1': 1,\n",
    "}\n",
    "\n",
    "# Mark hot spots in the q4_hot_spot_marked array\n",
    "for row, col, _ in q4_hot_spot_dataset:\n",
    "    marked_data[row, col] = class_values['Q4']\n",
    "\n",
    "# Mark spots in the q3_spot_dataset array\n",
    "for row, col, _ in q3_spot_dataset:\n",
    "    marked_data[row, col] = class_values['Q3']\n",
    "\n",
    "# Mark spots in the q2_spot_dataset array\n",
    "for row, col, _ in q2_spot_dataset:\n",
    "    marked_data[row, col] = class_values['Q2']\n",
    "\n",
    "# Mark cold spots in the q1_cold_spot_marked array\n",
    "for row, col, _ in q1_cold_spot_dataset:\n",
    "    marked_data[row, col] = class_values['Q1']\n"
   ]
  },
  {
   "cell_type": "code",
   "execution_count": 43,
   "metadata": {},
   "outputs": [],
   "source": [
    "# Save marked data as GeoTIFFs\n",
    "output_directory = \"output_folder\" \n",
    "output_tiff_path = os.path.join(output_directory, \"spots_marked.tif\")\n",
    "with rasterio.open(output_tiff_path, 'w', **src.profile) as dst:\n",
    "    dst.write(marked_data, 1)"
   ]
  }
 ],
 "metadata": {
  "kernelspec": {
   "display_name": "geo",
   "language": "python",
   "name": "python3"
  },
  "language_info": {
   "codemirror_mode": {
    "name": "ipython",
    "version": 3
   },
   "file_extension": ".py",
   "mimetype": "text/x-python",
   "name": "python",
   "nbconvert_exporter": "python",
   "pygments_lexer": "ipython3",
   "version": "3.10.0"
  },
  "orig_nbformat": 4
 },
 "nbformat": 4,
 "nbformat_minor": 2
}
