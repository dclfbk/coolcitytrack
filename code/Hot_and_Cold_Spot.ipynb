{
 "cells": [
  {
   "cell_type": "code",
   "execution_count": 2,
   "metadata": {},
   "outputs": [],
   "source": [
    "#libraries\n",
    "import os\n",
    "import geopandas as gpd\n",
    "import rasterio\n",
    "import numpy as np\n",
    "import matplotlib.pyplot as plt"
   ]
  },
  {
   "cell_type": "code",
   "execution_count": 16,
   "metadata": {},
   "outputs": [],
   "source": [
    "# Path to the folder containing the TIFF files\n",
    "folder_path = \"path_folder_GeoTIFF\""
   ]
  },
  {
   "cell_type": "code",
   "execution_count": 17,
   "metadata": {},
   "outputs": [],
   "source": [
    "# Get a list of all TIFF files in the folder\n",
    "tif_files = [f for f in os.listdir(folder_path) if f.endswith(\".tif\")]"
   ]
  },
  {
   "cell_type": "code",
   "execution_count": 18,
   "metadata": {},
   "outputs": [],
   "source": [
    "# Function to process a TIFF file and return the hot and cold spots\n",
    "def process_tiff(tif_path):\n",
    "    with rasterio.open(tif_path) as src:\n",
    "        # Read the raster data as a NumPy array\n",
    "        temperature_matrix = src.read(1)  \n",
    "\n",
    "        # Calculate quartiles for non-zero values\n",
    "        non_zero_values = temperature_matrix[temperature_matrix != 0]\n",
    "        q25 = np.percentile(non_zero_values, 25)\n",
    "        q75 = np.percentile(non_zero_values, 75)\n",
    "\n",
    "        # Find indices of cells with values above q75 and below q25\n",
    "        hot_spot_indices = np.argwhere((temperature_matrix > q75) & (temperature_matrix != 0))\n",
    "        cold_spot_indices = np.argwhere((temperature_matrix < q25) & (temperature_matrix != 0))\n",
    "        \n",
    "        return hot_spot_indices, cold_spot_indices"
   ]
  },
  {
   "cell_type": "code",
   "execution_count": 19,
   "metadata": {},
   "outputs": [],
   "source": [
    "# Dictionary to store hot and cold spot arrays for each TIFF file\n",
    "hot_spot_results = {}\n",
    "cold_spot_results = {}\n",
    "\n",
    "# Iterate through each TIFF file\n",
    "for tif_file in tif_files:\n",
    "    tif_path = os.path.join(folder_path, tif_file)\n",
    "    \n",
    "    # Process the TIFF file\n",
    "    hot_spot_indices, cold_spot_indices = process_tiff(tif_path)\n",
    "    \n",
    "    # Store the hot and cold spot indices in the dictionaries\n",
    "    hot_spot_results[tif_file] = hot_spot_indices\n",
    "    cold_spot_results[tif_file] = cold_spot_indices\n"
   ]
  },
  {
   "cell_type": "code",
   "execution_count": 24,
   "metadata": {},
   "outputs": [],
   "source": [
    "# Create a dictionary to count the occurrences of each cell position for hot and cold spots\n",
    "hot_cell_count = {}\n",
    "cold_cell_count = {}\n",
    "\n",
    "# Iterate through hot and cold spot arrays from TIFF files\n",
    "for tif_file, hot_spot_indices in hot_spot_results.items():\n",
    "    for row, col in hot_spot_indices:\n",
    "        cell_position = (row, col)\n",
    "        \n",
    "        # Increment the count for the cell position in hot spots\n",
    "        if cell_position in hot_cell_count:\n",
    "            hot_cell_count[cell_position] += 1\n",
    "        else:\n",
    "            hot_cell_count[cell_position] = 1\n",
    "\n",
    "for tif_file, cold_spot_indices in cold_spot_results.items():\n",
    "    for row, col in cold_spot_indices:\n",
    "        cell_position = (row, col)\n",
    "        \n",
    "        # Increment the count for the cell position in cold spots\n",
    "        if cell_position in cold_cell_count:\n",
    "            cold_cell_count[cell_position] += 1\n",
    "        else:\n",
    "            cold_cell_count[cell_position] = 1\n",
    "\n",
    "# Create datasets for hot and cold spots that occur more than 10 times\n",
    "hot_spot_dataset = [(row, col, count) for (row, col), count in hot_cell_count.items() if count > 10] \n",
    "cold_spot_dataset = [(row, col, count) for (row, col), count in cold_cell_count.items() if count > 10]\n"
   ]
  },
  {
   "cell_type": "code",
   "execution_count": 25,
   "metadata": {},
   "outputs": [
    {
     "data": {
      "text/plain": [
       "2707"
      ]
     },
     "execution_count": 25,
     "metadata": {},
     "output_type": "execute_result"
    }
   ],
   "source": [
    "len(cold_spot_dataset)"
   ]
  },
  {
   "cell_type": "code",
   "execution_count": 26,
   "metadata": {},
   "outputs": [
    {
     "data": {
      "text/plain": [
       "2657"
      ]
     },
     "execution_count": 26,
     "metadata": {},
     "output_type": "execute_result"
    }
   ],
   "source": [
    "len(hot_spot_dataset)"
   ]
  },
  {
   "cell_type": "code",
   "execution_count": 39,
   "metadata": {},
   "outputs": [],
   "source": [
    "# Load the original GeoTIFF you want to mark\n",
    "original_tiff_path = \"path_GeoTIFF\"\n",
    "with rasterio.open(original_tiff_path) as src:\n",
    "    original_data = src.read(1)\n",
    "    profile = src.profile"
   ]
  },
  {
   "cell_type": "code",
   "execution_count": 40,
   "metadata": {},
   "outputs": [],
   "source": [
    "# Create arrays for marked hot spots and cold spots\n",
    "hot_spot_marked = np.zeros_like(original_data)\n",
    "cold_spot_marked = np.zeros_like(original_data)"
   ]
  },
  {
   "cell_type": "code",
   "execution_count": 41,
   "metadata": {},
   "outputs": [],
   "source": [
    "# Define a value to mark hot spots (e.g., 255 for red)\n",
    "hot_spot_value = 255\n",
    "\n",
    "# Mark hot spots in the hot_spot_marked array\n",
    "for row, col, _ in hot_spot_dataset:\n",
    "    hot_spot_marked[row, col] = hot_spot_value\n"
   ]
  },
  {
   "cell_type": "code",
   "execution_count": 42,
   "metadata": {},
   "outputs": [],
   "source": [
    "# Define a value to mark cold spots (e.g., -255 for blue)\n",
    "cold_spot_value = -255\n",
    "\n",
    "# Mark cold spots in the cold_spot_marked array\n",
    "for row, col, _ in cold_spot_dataset:\n",
    "    cold_spot_marked[row, col] = cold_spot_value"
   ]
  },
  {
   "cell_type": "code",
   "execution_count": 43,
   "metadata": {},
   "outputs": [],
   "source": [
    "# Save marked hot spot and cold spot arrays as separate GeoTIFFs\n",
    "output_directory = \"output_folder\" \n",
    "output_hot_spot_tiff = os.path.join(output_directory, \"hot_spots_marked.tif\")\n",
    "with rasterio.open(output_hot_spot_tiff, 'w', **src.profile) as dst:\n",
    "    dst.write(hot_spot_marked, 1)"
   ]
  },
  {
   "cell_type": "code",
   "execution_count": 44,
   "metadata": {},
   "outputs": [],
   "source": [
    "output_cold_spot_tiff = os.path.join(output_directory, \"cold_spots_marked.tif\")\n",
    "with rasterio.open(output_cold_spot_tiff, 'w', **src.profile) as dst:\n",
    "    dst.write(cold_spot_marked, 1)"
   ]
  }
 ],
 "metadata": {
  "kernelspec": {
   "display_name": "geo",
   "language": "python",
   "name": "python3"
  },
  "language_info": {
   "codemirror_mode": {
    "name": "ipython",
    "version": 3
   },
   "file_extension": ".py",
   "mimetype": "text/x-python",
   "name": "python",
   "nbconvert_exporter": "python",
   "pygments_lexer": "ipython3",
   "version": "3.10.0"
  },
  "orig_nbformat": 4
 },
 "nbformat": 4,
 "nbformat_minor": 2
}
