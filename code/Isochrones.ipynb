{
 "cells": [
  {
   "cell_type": "markdown",
   "metadata": {},
   "source": [
    "### 0. Libraries"
   ]
  },
  {
   "cell_type": "code",
   "execution_count": 14,
   "metadata": {},
   "outputs": [],
   "source": [
    "import requests\n",
    "import geopandas as gpd\n",
    "import pandas as pd \n",
    "from shapely.geometry import Polygon"
   ]
  },
  {
   "cell_type": "code",
   "execution_count": 1,
   "metadata": {},
   "outputs": [],
   "source": [
    "# RUN THIS IN THE COMMAND PROMPT: java -jar \"D:\\Climate_Shelter_Index\\isocrona\\graphhopper-web-7.0.jar\" server \"D:\\Climate_Shelter_Index\\isocrona\\bologna.yml\""
   ]
  },
  {
   "cell_type": "markdown",
   "metadata": {},
   "source": [
    "### 1. Isochrones\n",
    "Calculate isochrones for each entrance to the green areas"
   ]
  },
  {
   "cell_type": "code",
   "execution_count": 4,
   "metadata": {},
   "outputs": [
    {
     "name": "stdout",
     "output_type": "stream",
     "text": [
      "GraphHopper is up and running.\n"
     ]
    }
   ],
   "source": [
    "# Check if GraphHopper is running\n",
    "\n",
    "# Replace with the actual URL of your GraphHopper server\n",
    "graphhopper_url = \"http://localhost:8989\"  # Change the URL as needed\n",
    "\n",
    "try:\n",
    "    # Send a GET request to the server's root URL\n",
    "    response = requests.get(graphhopper_url)\n",
    "\n",
    "    # Check the status code of the response\n",
    "    if response.status_code == 200:\n",
    "        print(\"GraphHopper is up and running.\")\n",
    "    else:\n",
    "        print(f\"GraphHopper returned a status code {response.status_code}.\")\n",
    "except requests.ConnectionError:\n",
    "    print(\"Unable to connect to GraphHopper. Please check if it's running.\")\n",
    "except Exception as e:\n",
    "    print(f\"An error occurred: {str(e)}\")"
   ]
  },
  {
   "cell_type": "code",
   "execution_count": 9,
   "metadata": {},
   "outputs": [],
   "source": [
    "# Set the URL of the GraphHopper server\n",
    "graphhopper_url = \"http://localhost:8989/isochrone\"\n",
    "\n",
    "# Load the shapefile containing points (entrances of green areas)\n",
    "points_shapefile = \"D:/Climate_Shelter_Index/aree-verdi_entrate_centroidi/aree-verdi_entrate_centroidi.shp\"\n",
    "# Load the shapefile as a GeoDataFrame\n",
    "points_gdf = gpd.read_file(points_shapefile)"
   ]
  },
  {
   "cell_type": "code",
   "execution_count": 15,
   "metadata": {},
   "outputs": [],
   "source": [
    "# Initialize an empty GeoDataFrame to store isochrone results\n",
    "isochrone_gdf = gpd.GeoDataFrame(columns=[\"green_area_name\", \"minutes_distance\", \"geometry\"], crs=\"epsg:4326\")\n",
    "\n",
    "# Iterate through each point in the GeoDataFrame\n",
    "for index, point in points_gdf.iterrows():\n",
    "    # Extract latitude and longitude from the point geometry\n",
    "    lat, lon = point.geometry.y, point.geometry.x\n",
    "\n",
    "    # Define the isochrone query parameters\n",
    "    minutes_distance = 5\n",
    "    timeseconds = str(minutes_distance * 60)\n",
    "    query = {\n",
    "        \"point\": f\"{lat},{lon}\",\n",
    "        \"time_limit\": timeseconds,\n",
    "        \"distance_limit\": \"0\",\n",
    "        \"profile\": \"foot\",\n",
    "        \"buckets\": \"1\",\n",
    "        \"reverse_flow\": \"false\"\n",
    "    }\n",
    "\n",
    "    # Send a GET request to the GraphHopper server\n",
    "    response = requests.get(graphhopper_url, params=query)\n",
    "    data = response.json()\n",
    "\n",
    "    # Extract the green area name from the 'nome' column\n",
    "    green_area_name = point['nome']\n",
    "\n",
    "    # Extract the isochrone geometry and create a Polygon\n",
    "    geotype = data['polygons'][0]['geometry']['type']\n",
    "    geometry = None\n",
    "    if geotype == \"Polygon\":\n",
    "        geometry = Polygon(data['polygons'][0]['geometry']['coordinates'][0])\n",
    "\n",
    "    # Create a temporary DataFrame\n",
    "    temp_df = pd.DataFrame({\n",
    "        \"green_area_name\": [green_area_name],\n",
    "        \"minutes_distance\": [minutes_distance],\n",
    "        \"geometry\": [geometry]\n",
    "    })\n",
    "\n",
    "    # Append the temporary DataFrame to the isochrone GeoDataFrame\n",
    "    isochrone_gdf = pd.concat([isochrone_gdf, temp_df], ignore_index=True)"
   ]
  },
  {
   "cell_type": "code",
   "execution_count": 26,
   "metadata": {},
   "outputs": [],
   "source": [
    "# Convert the concatenated DataFrame back to a GeoDataFrame\n",
    "isochrone_gdf = gpd.GeoDataFrame(isochrone_gdf)"
   ]
  },
  {
   "cell_type": "code",
   "execution_count": 27,
   "metadata": {},
   "outputs": [],
   "source": [
    "# Set the CRS for the isochrone GeoDataFrame to EPSG 4326\n",
    "isochrone_gdf.crs = \"epsg:4326\"\n"
   ]
  },
  {
   "cell_type": "code",
   "execution_count": 31,
   "metadata": {},
   "outputs": [],
   "source": [
    "# Rename columns\n",
    "isochrone_gdf = isochrone_gdf.rename(columns= {'green_area_name':'ga_name',\n",
    "                                               'minutes_distance': 'min_dist' })"
   ]
  },
  {
   "cell_type": "code",
   "execution_count": 32,
   "metadata": {},
   "outputs": [
    {
     "data": {
      "text/html": [
       "<div>\n",
       "<style scoped>\n",
       "    .dataframe tbody tr th:only-of-type {\n",
       "        vertical-align: middle;\n",
       "    }\n",
       "\n",
       "    .dataframe tbody tr th {\n",
       "        vertical-align: top;\n",
       "    }\n",
       "\n",
       "    .dataframe thead th {\n",
       "        text-align: right;\n",
       "    }\n",
       "</style>\n",
       "<table border=\"1\" class=\"dataframe\">\n",
       "  <thead>\n",
       "    <tr style=\"text-align: right;\">\n",
       "      <th></th>\n",
       "      <th>ga_name</th>\n",
       "      <th>min_dist</th>\n",
       "      <th>geometry</th>\n",
       "    </tr>\n",
       "  </thead>\n",
       "  <tbody>\n",
       "    <tr>\n",
       "      <th>0</th>\n",
       "      <td>NaN</td>\n",
       "      <td>5</td>\n",
       "      <td>POLYGON ((11.28736 44.49106, 11.28736 44.49101...</td>\n",
       "    </tr>\n",
       "    <tr>\n",
       "      <th>1</th>\n",
       "      <td>GIARDINO DEL GHISELLO (EX GIARDINO CALDA)</td>\n",
       "      <td>5</td>\n",
       "      <td>POLYGON ((11.29939 44.49114, 11.29976 44.49128...</td>\n",
       "    </tr>\n",
       "    <tr>\n",
       "      <th>2</th>\n",
       "      <td>PARCO DI VILLA GROSSO</td>\n",
       "      <td>5</td>\n",
       "      <td>POLYGON ((11.33795 44.52134, 11.33776 44.52101...</td>\n",
       "    </tr>\n",
       "    <tr>\n",
       "      <th>3</th>\n",
       "      <td>NUOVA</td>\n",
       "      <td>5</td>\n",
       "      <td>POLYGON ((11.35273 44.48368, 11.35279 44.48339...</td>\n",
       "    </tr>\n",
       "    <tr>\n",
       "      <th>4</th>\n",
       "      <td>AREA VIA DELL'ANGELO CUSTODE</td>\n",
       "      <td>5</td>\n",
       "      <td>POLYGON ((11.36123 44.45897, 11.36461 44.45888...</td>\n",
       "    </tr>\n",
       "  </tbody>\n",
       "</table>\n",
       "</div>"
      ],
      "text/plain": [
       "                                     ga_name min_dist  \\\n",
       "0                                        NaN        5   \n",
       "1  GIARDINO DEL GHISELLO (EX GIARDINO CALDA)        5   \n",
       "2                      PARCO DI VILLA GROSSO        5   \n",
       "3                                      NUOVA        5   \n",
       "4               AREA VIA DELL'ANGELO CUSTODE        5   \n",
       "\n",
       "                                            geometry  \n",
       "0  POLYGON ((11.28736 44.49106, 11.28736 44.49101...  \n",
       "1  POLYGON ((11.29939 44.49114, 11.29976 44.49128...  \n",
       "2  POLYGON ((11.33795 44.52134, 11.33776 44.52101...  \n",
       "3  POLYGON ((11.35273 44.48368, 11.35279 44.48339...  \n",
       "4  POLYGON ((11.36123 44.45897, 11.36461 44.45888...  "
      ]
     },
     "execution_count": 32,
     "metadata": {},
     "output_type": "execute_result"
    }
   ],
   "source": [
    "isochrone_gdf.head()"
   ]
  },
  {
   "cell_type": "code",
   "execution_count": 33,
   "metadata": {},
   "outputs": [],
   "source": [
    "# Save the isochrone results to a new shapefile\n",
    "output_shapefile = \"D:/Climate_Shelter_Index/isocrona/5min_isochrones.shp\"  \n",
    "isochrone_gdf.to_file(output_shapefile)"
   ]
  }
 ],
 "metadata": {
  "kernelspec": {
   "display_name": "geoss",
   "language": "python",
   "name": "python3"
  },
  "language_info": {
   "codemirror_mode": {
    "name": "ipython",
    "version": 3
   },
   "file_extension": ".py",
   "mimetype": "text/x-python",
   "name": "python",
   "nbconvert_exporter": "python",
   "pygments_lexer": "ipython3",
   "version": "3.11.5"
  },
  "orig_nbformat": 4
 },
 "nbformat": 4,
 "nbformat_minor": 2
}
